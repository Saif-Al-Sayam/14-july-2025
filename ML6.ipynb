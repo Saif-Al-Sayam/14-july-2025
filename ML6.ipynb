{
  "nbformat": 4,
  "nbformat_minor": 0,
  "metadata": {
    "colab": {
      "provenance": [],
      "authorship_tag": "ABX9TyNC2+lRmdgO8jFkNEJzXL5a",
      "include_colab_link": true
    },
    "kernelspec": {
      "name": "python3",
      "display_name": "Python 3"
    },
    "language_info": {
      "name": "python"
    }
  },
  "cells": [
    {
      "cell_type": "markdown",
      "metadata": {
        "id": "view-in-github",
        "colab_type": "text"
      },
      "source": [
        "<a href=\"https://colab.research.google.com/github/Saif-Al-Sayam/14-july-2025/blob/main/ML6.ipynb\" target=\"_parent\"><img src=\"https://colab.research.google.com/assets/colab-badge.svg\" alt=\"Open In Colab\"/></a>"
      ]
    },
    {
      "cell_type": "code",
      "execution_count": 4,
      "metadata": {
        "colab": {
          "base_uri": "https://localhost:8080/"
        },
        "id": "-GRZDhKQH_z3",
        "outputId": "40bee6e3-3761-4a2c-d032-533b5032af24"
      },
      "outputs": [
        {
          "output_type": "stream",
          "name": "stdout",
          "text": [
            "['The canal is open to shipping.', 'This is a ship shipping ship, shipping shipping ships.', 'The ship locked into the new canal.']\n"
          ]
        }
      ],
      "source": [
        "documents = [ 'The canal is open to shipping.' ,\n",
        "             'This is a ship shipping ship, shipping shipping ships.' ,\n",
        "             'The ship locked into the new canal.' ]\n",
        "\n",
        "print (documents)"
      ]
    },
    {
      "cell_type": "code",
      "source": [
        "lower_case_documents = [doc.lower() for doc in documents]\n",
        "\n",
        "print(\"All Document in lowercase letters: \\n\")\n",
        "print(lower_case_documents)"
      ],
      "metadata": {
        "colab": {
          "base_uri": "https://localhost:8080/"
        },
        "id": "lFw4mzlkJhrq",
        "outputId": "40e09f17-1a27-4775-f62b-4f287ee84a71"
      },
      "execution_count": 27,
      "outputs": [
        {
          "output_type": "stream",
          "name": "stdout",
          "text": [
            "All Document in lowercase letters: \n",
            "\n",
            "['the canal is open to shipping.', 'this is a ship shipping ship, shipping shipping ships.', 'the ship locked into the new canal.']\n"
          ]
        }
      ]
    },
    {
      "cell_type": "code",
      "source": [
        "import string\n",
        "punctuation_removed_documents = [\n",
        "    \"\".join(char for char in doc if char not in string.punctuation)\n",
        "    for doc in lower_case_documents\n",
        "]\n",
        "print(\"After Remove Punctuation word in the list: \\n\")\n",
        "print(punctuation_removed_documents)"
      ],
      "metadata": {
        "colab": {
          "base_uri": "https://localhost:8080/"
        },
        "id": "G5pILBx9Jhoi",
        "outputId": "4c7a5895-7d69-461a-d7c2-af5e3acb4eb8"
      },
      "execution_count": 28,
      "outputs": [
        {
          "output_type": "stream",
          "name": "stdout",
          "text": [
            "After Remove Punctuation word in the list: \n",
            "\n",
            "['the canal is open to shipping', 'this is a ship shipping ship shipping shipping ships', 'the ship locked into the new canal']\n"
          ]
        }
      ]
    },
    {
      "cell_type": "code",
      "source": [
        "preprocessed_documents = [doc.split(' ') for doc in punctuation_removed_documents]\n",
        "print(\"After Split into words: \\n\")\n",
        "print(preprocessed_documents)\n"
      ],
      "metadata": {
        "colab": {
          "base_uri": "https://localhost:8080/"
        },
        "id": "xuuRVCv2Jhlq",
        "outputId": "fc0afeec-d3ad-46ca-ed52-2be7e099035c"
      },
      "execution_count": 32,
      "outputs": [
        {
          "output_type": "stream",
          "name": "stdout",
          "text": [
            "After Split into words: \n",
            "\n",
            "[['the', 'canal', 'is', 'open', 'to', 'shipping'], ['this', 'is', 'a', 'ship', 'shipping', 'ship', 'shipping', 'shipping', 'ships'], ['the', 'ship', 'locked', 'into', 'the', 'new', 'canal']]\n"
          ]
        }
      ]
    },
    {
      "cell_type": "code",
      "source": [
        "from collections import Counter\n",
        "frequency_list = [Counter(doc) for doc in preprocessed_documents]\n",
        "print(\"Count the every word in the list: \\n\")\n",
        "print(frequency_list)\n"
      ],
      "metadata": {
        "colab": {
          "base_uri": "https://localhost:8080/"
        },
        "id": "Fx0UFUMmJhi7",
        "outputId": "60877f57-def9-4ddc-bea9-ebc72758ff05"
      },
      "execution_count": 31,
      "outputs": [
        {
          "output_type": "stream",
          "name": "stdout",
          "text": [
            "Count the every word in the list: \n",
            "\n",
            "[Counter({'the': 1, 'canal': 1, 'is': 1, 'open': 1, 'to': 1, 'shipping': 1}), Counter({'shipping': 3, 'ship': 2, 'this': 1, 'is': 1, 'a': 1, 'ships': 1}), Counter({'the': 2, 'ship': 1, 'locked': 1, 'into': 1, 'new': 1, 'canal': 1})]\n"
          ]
        }
      ]
    },
    {
      "cell_type": "code",
      "source": [
        "from sklearn.feature_extraction.text import CountVectorizer\n",
        "count_vector = CountVectorizer()\n",
        "count_vector.fit(documents)\n",
        "print(count_vector.get_feature_names_out())"
      ],
      "metadata": {
        "colab": {
          "base_uri": "https://localhost:8080/"
        },
        "id": "x5_3BsWnJhgS",
        "outputId": "b176dc99-1615-44e7-f700-f39c3b0746fd"
      },
      "execution_count": 33,
      "outputs": [
        {
          "output_type": "stream",
          "name": "stdout",
          "text": [
            "['canal' 'into' 'is' 'locked' 'new' 'open' 'ship' 'shipping' 'ships' 'the'\n",
            " 'this' 'to']\n"
          ]
        }
      ]
    },
    {
      "cell_type": "code",
      "source": [
        "# Transform documents to array\n",
        "doc_array = count_vector.transform(documents).toarray()\n",
        "print(\"Convert in array format: \\n\")\n",
        "print(doc_array)"
      ],
      "metadata": {
        "colab": {
          "base_uri": "https://localhost:8080/"
        },
        "id": "6KxNKjecJhdq",
        "outputId": "6fcfcf24-2f13-43ad-dd4e-360df08f87a7"
      },
      "execution_count": 34,
      "outputs": [
        {
          "output_type": "stream",
          "name": "stdout",
          "text": [
            "Convert in array format: \n",
            "\n",
            "[[1 0 1 0 0 1 0 1 0 1 0 1]\n",
            " [0 0 1 0 0 0 2 3 1 0 1 0]\n",
            " [1 1 0 1 1 0 1 0 0 2 0 0]]\n"
          ]
        }
      ]
    },
    {
      "cell_type": "code",
      "source": [
        "import pandas as pd\n",
        "frequency_matrix = pd.DataFrame(doc_array, columns=count_vector.get_feature_names_out())\n",
        "print(frequency_matrix)\n"
      ],
      "metadata": {
        "colab": {
          "base_uri": "https://localhost:8080/"
        },
        "id": "olFlVVFJJhar",
        "outputId": "ade9787a-0696-4cb1-a7e5-1642c121b906"
      },
      "execution_count": 35,
      "outputs": [
        {
          "output_type": "stream",
          "name": "stdout",
          "text": [
            "   canal  into  is  locked  new  open  ship  shipping  ships  the  this  to\n",
            "0      1     0   1       0    0     1     0         1      0    1     0   1\n",
            "1      0     0   1       0    0     0     2         3      1    0     1   0\n",
            "2      1     1   0       1    1     0     1         0      0    2     0   0\n"
          ]
        }
      ]
    }
  ]
}